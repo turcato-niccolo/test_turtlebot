{
 "cells": [
  {
   "cell_type": "code",
   "execution_count": 10,
   "metadata": {
    "ExecuteTime": {
     "end_time": "2024-10-22T15:32:28.402234Z",
     "start_time": "2024-10-22T15:32:27.825100Z"
    }
   },
   "outputs": [],
   "source": [
    "import copy\n",
    "\n",
    "import numpy as np\n",
    "import matplotlib.pyplot as plt\n",
    "import os as os\n",
    "\n",
    "path = \"./results/\""
   ]
  },
  {
   "cell_type": "markdown",
   "metadata": {},
   "source": [
    "The load_curves function loads the results of multiple algorithms across different environments from .npy files, stores them in a dictionary structure, and processes them to ensure the curves all have the same length."
   ]
  },
  {
   "cell_type": "code",
   "execution_count": 11,
   "metadata": {
    "ExecuteTime": {
     "end_time": "2024-10-22T15:32:28.416700Z",
     "start_time": "2024-10-22T15:32:28.410192Z"
    }
   },
   "outputs": [],
   "source": [
    "def load_curves(algorithms, envs, t):\n",
    "    curves = {alg: {e: [] for e in envs} for alg in algorithms} # create a dictionary \n",
    "    for alg in algorithms:\n",
    "        for e in envs:\n",
    "            for i in range(0, 100):\n",
    "                if t == 0: name = f\"{path}/{alg}_{e}_{i}.npy\"\n",
    "                if t == 1: name = f\"{path}/{alg}_{e}_{i}_s.npy\"\n",
    "                \n",
    "                if os.path.isfile(name):\n",
    "                    #print(f\"{name} loaded\", np.load(name).shape)\n",
    "                    curves[alg][e].append(list(np.load(name)))\n",
    "            max_size = -1        \n",
    "            for i in range(len(curves[alg][e])):\n",
    "                if len(curves[alg][e][i]) > max_size:\n",
    "                    max_size = len(curves[alg][e][i])\n",
    "            for i in range(len(curves[alg][e])):\n",
    "                while len(curves[alg][e][i]) <= max_size:\n",
    "                    curves[alg][e][i].append(curves[alg][e][i][-1])\n",
    "\n",
    "            curves[alg][e] = np.array(curves[alg][e]) if len(curves[alg][e]) else np.array([[]])\n",
    "\n",
    "\n",
    "    return curves"
   ]
  },
  {
   "cell_type": "markdown",
   "metadata": {},
   "source": [
    "The smooth function applies a smoothing technique to the loaded data by averaging over a window of neighboring points, creating a more visually appealing curve by reducing fluctuations."
   ]
  },
  {
   "cell_type": "code",
   "execution_count": 12,
   "metadata": {
    "ExecuteTime": {
     "end_time": "2024-10-22T15:32:28.492968Z",
     "start_time": "2024-10-22T15:32:28.487996Z"
    },
    "jupyter": {
     "outputs_hidden": false
    }
   },
   "outputs": [],
   "source": [
    "def smooth(data, length=10):\n",
    "    data = data.copy()\n",
    "    pad = copy.deepcopy(data[:, -1, None].repeat(length-1, axis=-1)) # padding the data\n",
    "    pad_data = np.concatenate((data, pad), axis=-1)\n",
    "    pad = copy.deepcopy(data[:, 0, None].repeat(length-1, axis=-1))  # padding the data\n",
    "    pad_data = np.concatenate((pad, pad_data), axis=-1)\n",
    "    \n",
    "    for i in range(length, len(data[0])+length):\n",
    "        assert i-length >= 0\n",
    "        data[:, i-length] = np.mean(pad_data[:, i-length:i+length], axis=-1) # smooth the data with its average\n",
    "    return data"
   ]
  },
  {
   "cell_type": "markdown",
   "metadata": {},
   "source": [
    "Plot the results"
   ]
  },
  {
   "cell_type": "code",
   "execution_count": 13,
   "metadata": {},
   "outputs": [],
   "source": [
    "def plot_results(ENVS, ALGORITHMS, curves, use_median=False):\n",
    "    \"\"\"\n",
    "    Plots the performance curves for different algorithms in various environments.\n",
    "\n",
    "    Parameters:\n",
    "    - ENVS: List of environment names.\n",
    "    - ALGORITHMS: List of algorithm names.\n",
    "    - curves: Dictionary of data for each algorithm and environment.\n",
    "    - use_median: Boolean; if True, use median with quartiles; if False, use mean with std deviation.\n",
    "    \"\"\"\n",
    "    \n",
    "    for k, e in enumerate(ENVS):\n",
    "        fig, ax = plt.subplots(1, 1, figsize=(10, 5))\n",
    "        ax.set_title(e)  # Set environment name as the title\n",
    "        ax.set_xlabel(\"Steps [1e4]\")  # Label for x-axis\n",
    "        ax.set_ylabel(\"Success rate\" if use_median else \"Reward\")  # Label for y-axis\n",
    "\n",
    "        for i, alg in enumerate(ALGORITHMS):\n",
    "            c = curves[alg][e]  # Get data for the algorithm on this environment\n",
    "            if c.size == 0:\n",
    "                print(f\"No data for {alg} on {e}. Skipping.\")\n",
    "                continue  # Skip if there's no data\n",
    "            \n",
    "            x = np.arange(c.shape[1]) / 2  # X-axis (time or episode count)\n",
    "\n",
    "            if use_median:\n",
    "                # Compute median, 1st quartile (25th percentile), and 3rd quartile (75th percentile)\n",
    "                median = smooth(np.median(c, axis=0, keepdims=True), length=2).squeeze()  # Smooth median\n",
    "                q1 = smooth(np.percentile(c, 25, axis=0, keepdims=True), length=2).squeeze()  # Smooth 25th percentile\n",
    "                q3 = smooth(np.percentile(c, 75, axis=0, keepdims=True), length=2).squeeze()  # Smooth 75th percentile\n",
    "                \n",
    "                ax.plot(x, median, label=alg, linewidth=4, linestyle='--', color='C' + str(i))  # Plot median curve\n",
    "                ax.fill_between(x, q1, q3, alpha=0.2, color='C' + str(i))  # Fill between 1st and 3rd quartile\n",
    "\n",
    "            else:\n",
    "                # Compute mean and standard deviation\n",
    "                mu = smooth(c.mean(axis=0, keepdims=True), length=2).squeeze()  # Smooth mean\n",
    "                sigma = smooth(c.std(axis=0, keepdims=True), length=2).squeeze()  # Smooth std deviation\n",
    "                \n",
    "                ax.plot(x, mu, label=alg, linewidth=4, linestyle='--', color='C' + str(i))  # Plot mean curve\n",
    "                ax.fill_between(x, mu + sigma, mu - sigma, alpha=0.2, color='C' + str(i))  # Fill between std deviation\n",
    "\n",
    "            ax.set_xticks(np.arange(0, x[-1] + 1, step=10))\n",
    "            ax.grid(True)  # Add grid\n",
    "        \n",
    "        ax.legend()  # Add legend for algorithms\n",
    "        plt.show()  # Show the plot"
   ]
  },
  {
   "cell_type": "code",
   "execution_count": 14,
   "metadata": {},
   "outputs": [],
   "source": [
    "# Define environments and algorithms\n",
    "ENVS = ['MR-env']\n",
    "ALGORITHMS = ['OurDDPG', 'ExpD3']\n",
    "\n",
    "# ENVS = ['MR-env', 'MR-corridor-env']\n",
    "# ALGORITHMS = ['OurDDPG', 'ExpD3', 'SAC']"
   ]
  },
  {
   "cell_type": "markdown",
   "metadata": {},
   "source": [
    "Plots the performance curves for each algorithm on each environment."
   ]
  },
  {
   "cell_type": "code",
   "execution_count": 15,
   "metadata": {
    "ExecuteTime": {
     "end_time": "2024-10-22T15:33:12.915651Z",
     "start_time": "2024-10-22T15:33:12.769734Z"
    }
   },
   "outputs": [
    {
     "name": "stdout",
     "output_type": "stream",
     "text": [
      "No data for ExpD3 on MR-env. Skipping.\n"
     ]
    },
    {
     "data": {
      "image/png": "[encoded data removed]",
      "text/plain": [
       "<Figure size 1000x500 with 1 Axes>"
      ]
     },
     "metadata": {},
     "output_type": "display_data"
    }
   ],
   "source": [
    "# Load the curves\n",
    "curves = load_curves(ALGORITHMS, ENVS, t = 0)\n",
    "# Plot data\n",
    "plot_results(ENVS, ALGORITHMS, curves, False)"
   ]
  },
  {
   "cell_type": "code",
   "execution_count": 16,
   "metadata": {},
   "outputs": [
    {
     "name": "stdout",
     "output_type": "stream",
     "text": [
      "No data for ExpD3 on MR-env. Skipping.\n"
     ]
    },
    {
     "data": {
      "image/png": "[encoded data removed]",
      "text/plain": [
       "<Figure size 1000x500 with 1 Axes>"
      ]
     },
     "metadata": {},
     "output_type": "display_data"
    }
   ],
   "source": [
    "# Load the curves\n",
    "curves = load_curves(ALGORITHMS, ENVS, t = 1)\n",
    "# Plot data\n",
    "plot_results(ENVS, ALGORITHMS, curves, True)"
   ]
  },
  {
   "cell_type": "code",
   "execution_count": 17,
   "metadata": {},
   "outputs": [
    {
     "name": "stdout",
     "output_type": "stream",
     "text": [
      "OurDDPG:\n",
      "Average success rate during training over 1 seeds: 1.449 %\n",
      "ExpD3:\n",
      "No files found matching the pattern.\n"
     ]
    }
   ],
   "source": [
    "import glob\n",
    "\n",
    "def calculate_mean_success_rate(file_pattern):\n",
    "    # List all files that match the naming pattern\n",
    "    file_paths = glob.glob(file_pattern)\n",
    "    \n",
    "    # Check if any files were found\n",
    "    if not file_paths:\n",
    "        print(\"No files found matching the pattern.\")\n",
    "        return None\n",
    "    \n",
    "    # Load each file and store the results in a list\n",
    "    data = []\n",
    "    for file_path in file_paths:\n",
    "        s = np.load(file_path)\n",
    "        data.append(s)\n",
    "    \n",
    "    # Convert the list to a NumPy array and compute the mean\n",
    "    data = np.array(data)\n",
    "    mean_success = np.mean(data)\n",
    "    \n",
    "    # Display the mean success rate as a percentage\n",
    "    print(f\"Average success rate during training over {len(file_paths)} seeds: {mean_success * 100:.3f} %\")\n",
    "\n",
    "# Example usage:\n",
    "print(\"OurDDPG:\")\n",
    "calculate_mean_success_rate(\"./results/OurDDPG_MR-env_*_t.npy\")\n",
    "print(\"ExpD3:\")\n",
    "calculate_mean_success_rate(\"./results/ExpD3_MR-env_*_t.npy\")"
   ]
  },
  {
   "cell_type": "markdown",
   "metadata": {},
   "source": [
    "Calculate the time needed to do the experiment, based on the graphs above."
   ]
  },
  {
   "cell_type": "code",
   "execution_count": 18,
   "metadata": {},
   "outputs": [
    {
     "name": "stdout",
     "output_type": "stream",
     "text": [
      "Phase 1:\n",
      "  Number of steps: 300000\n",
      "  Time for steps (in h): 5.556\n",
      "  Number of returns: 600\n",
      "  Time for returns (in min): 30.000\n",
      "  Total time for phase 1 (in h): 6.056\n",
      "\n",
      "Phase 2:\n",
      "  Number of steps: 700000\n",
      "  Time for steps (in h): 12.963\n",
      "  Number of returns: 3500\n",
      "  Time for returns (in h): 2.917\n",
      "  Total time for phase 2 (in h): 15.880\n",
      "\n",
      "Overall Results:\n",
      "  Total time required (in seconds): 78966.66666666666\n",
      "  Total time required (in hours): 21.935\n"
     ]
    }
   ],
   "source": [
    "# Constants\n",
    "total_steps = 1_000_000               # Total steps the robot takes\n",
    "steps_per_second = 15                 # Robot executes 15 steps per second\n",
    "return_time = 3                       # Time taken to return to the initial position (in seconds)\n",
    "\n",
    "# Time calculations per step\n",
    "time_per_step = 1 / steps_per_second  # Time taken for one step\n",
    "\n",
    "# Phase 1: First 300,000 steps with a return every 500 steps\n",
    "phase1_steps = 300_000\n",
    "phase1_return_interval = 500\n",
    "\n",
    "# Number of returns in phase 1\n",
    "phase1_returns = phase1_steps // phase1_return_interval\n",
    "\n",
    "# Total time for phase 1\n",
    "phase1_step_time = phase1_steps * time_per_step\n",
    "phase1_return_time = phase1_returns * return_time\n",
    "phase1_time = phase1_step_time + phase1_return_time\n",
    "\n",
    "# Output phase 1 details\n",
    "print(\"Phase 1:\")\n",
    "print(f\"  Number of steps: {phase1_steps}\")\n",
    "print(f\"  Time for steps (in h): {phase1_step_time / 3600:.3f}\")\n",
    "print(f\"  Number of returns: {phase1_returns}\")\n",
    "print(f\"  Time for returns (in min): {phase1_return_time / 60:.3f}\")\n",
    "print(f\"  Total time for phase 1 (in h): {phase1_time / 3600:.3f}\\n\")\n",
    "\n",
    "# Phase 2: Remaining 700,000 steps with a return every 200 steps\n",
    "phase2_steps = total_steps - phase1_steps\n",
    "phase2_return_interval = 200\n",
    "\n",
    "# Number of returns in phase 2\n",
    "phase2_returns = phase2_steps // phase2_return_interval\n",
    "\n",
    "# Total time for phase 2\n",
    "phase2_step_time = phase2_steps * time_per_step\n",
    "phase2_return_time = phase2_returns * return_time\n",
    "phase2_time = phase2_step_time + phase2_return_time\n",
    "\n",
    "# Output phase 2 details\n",
    "print(\"Phase 2:\")\n",
    "print(f\"  Number of steps: {phase2_steps}\")\n",
    "print(f\"  Time for steps (in h): {phase2_step_time / 3600:.3f}\")\n",
    "print(f\"  Number of returns: {phase2_returns}\")\n",
    "print(f\"  Time for returns (in h): {phase2_return_time / 3600:.3f}\")\n",
    "print(f\"  Total time for phase 2 (in h): {phase2_time / 3600:.3f}\\n\")\n",
    "\n",
    "# Total time required\n",
    "total_time = phase1_time + phase2_time\n",
    "\n",
    "# Output the final result\n",
    "print(\"Overall Results:\")\n",
    "print(f\"  Total time required (in seconds): {total_time}\")\n",
    "print(f\"  Total time required (in hours): {total_time / 3600:.3f}\")\n"
   ]
  }
 ],
 "metadata": {
  "kernelspec": {
   "display_name": "pytorch",
   "language": "python",
   "name": "python3"
  },
  "language_info": {
   "codemirror_mode": {
    "name": "ipython",
    "version": 3
   },
   "file_extension": ".py",
   "mimetype": "text/x-python",
   "name": "python",
   "nbconvert_exporter": "python",
   "pygments_lexer": "ipython3",
   "version": "3.9.20"
  }
 },
 "nbformat": 4,
 "nbformat_minor": 4
}
