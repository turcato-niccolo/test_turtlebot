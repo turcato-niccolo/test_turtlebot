{
 "cells": [
  {
   "cell_type": "code",
   "execution_count": 1,
   "metadata": {
    "ExecuteTime": {
     "end_time": "2024-10-22T15:32:28.402234Z",
     "start_time": "2024-10-22T15:32:27.825100Z"
    }
   },
   "outputs": [],
   "source": [
    "import copy\n",
    "\n",
    "import numpy as np\n",
    "import matplotlib.pyplot as plt\n",
    "import os as os\n",
    "\n",
    "path = \"./logs/\""
   ]
  },
  {
   "cell_type": "markdown",
   "metadata": {},
   "source": [
    "The load_curves function loads the results of multiple algorithms across different environments from .npy files, stores them in a dictionary structure, and processes them to ensure the curves all have the same length."
   ]
  },
  {
   "cell_type": "code",
   "execution_count": 2,
   "metadata": {
    "ExecuteTime": {
     "end_time": "2024-10-22T15:32:28.416700Z",
     "start_time": "2024-10-22T15:32:28.410192Z"
    }
   },
   "outputs": [],
   "source": [
    "def load_curves(algorithms, envs):\n",
    "    curves = {alg: {e: [] for e in envs} for alg in algorithms} # create a dictionary \n",
    "    for alg in algorithms:\n",
    "        for e in envs:\n",
    "            for i in range(0, 100):\n",
    "                name = f\"{path}{e}/{alg}/{alg}_{i}.npy\"\n",
    "                if os.path.isfile(name):\n",
    "                    # print(f\"{name} loaded\", np.load(name).shape)\n",
    "                    curves[alg][e].append(list(np.load(name)))\n",
    "            max_size = -1        \n",
    "            for i in range(len(curves[alg][e])):\n",
    "                if len(curves[alg][e][i]) > max_size:\n",
    "                    max_size = len(curves[alg][e][i])\n",
    "            for i in range(len(curves[alg][e])):\n",
    "                while len(curves[alg][e][i]) <= max_size:\n",
    "                    curves[alg][e][i].append(curves[alg][e][i][-1])\n",
    "\n",
    "            curves[alg][e] = np.array(curves[alg][e]) if len(curves[alg][e]) else np.array([[]])\n",
    "\n",
    "\n",
    "    return curves"
   ]
  },
  {
   "cell_type": "markdown",
   "metadata": {},
   "source": [
    "The smooth function applies a smoothing technique to the loaded data by averaging over a window of neighboring points, creating a more visually appealing curve by reducing fluctuations."
   ]
  },
  {
   "cell_type": "code",
   "execution_count": 3,
   "metadata": {
    "ExecuteTime": {
     "end_time": "2024-10-22T15:32:28.492968Z",
     "start_time": "2024-10-22T15:32:28.487996Z"
    },
    "jupyter": {
     "outputs_hidden": false
    }
   },
   "outputs": [],
   "source": [
    "def smooth(data, length=10):\n",
    "    data = data.copy()\n",
    "    pad = copy.deepcopy(data[:, -1, None].repeat(length-1, axis=-1)) # padding the data\n",
    "    pad_data = np.concatenate((data, pad), axis=-1)\n",
    "    pad = copy.deepcopy(data[:, 0, None].repeat(length-1, axis=-1))  # padding the data\n",
    "    pad_data = np.concatenate((pad, pad_data), axis=-1)\n",
    "    \n",
    "    for i in range(length, len(data[0])+length):\n",
    "        assert i-length >= 0\n",
    "        data[:, i-length] = np.mean(pad_data[:, i-length:i+length], axis=-1) # smooth the data with its average\n",
    "    return data"
   ]
  },
  {
   "cell_type": "markdown",
   "metadata": {},
   "source": [
    "Plots the performance curves for each algorithm on each environment."
   ]
  },
  {
   "cell_type": "code",
   "execution_count": null,
   "metadata": {
    "ExecuteTime": {
     "end_time": "2024-10-22T15:33:12.915651Z",
     "start_time": "2024-10-22T15:33:12.769734Z"
    }
   },
   "outputs": [],
   "source": [
    "# Define environments and algorithms\n",
    "ENVS = ['MobileRobotEnv']\n",
    "ALGORITHMS = ['DDPG']\n",
    "\n",
    "# Load the curves\n",
    "curves = load_curves(ALGORITHMS, ENVS)\n",
    "\n",
    "\n",
    "# Plotting Results\n",
    "for k, e in enumerate(ENVS):\n",
    "    fig, ax = plt.subplots(1, 1, figsize=(10, 5))\n",
    "    ax.set_title(e)  # Set environment name as the title\n",
    "    for i, alg in enumerate(ALGORITHMS):\n",
    "        c = curves[alg][e]  # Get data for the algorithm on this environment\n",
    "        if c.size == 0:\n",
    "            print(f\"No data for {alg} on {e}. Skipping.\")\n",
    "            continue  # Skip if there's no data\n",
    "        mu = smooth(c.mean(axis=0, keepdims=True), length=2).squeeze()  # Smooth mean\n",
    "        sigma = smooth(c.std(axis=0, keepdims=True), length=2).squeeze()  # Smooth std deviation\n",
    "        x = np.arange(mu.shape[0]) # / 2 modifed for represent the true number of episodes  # X-axis (time or episode count)\n",
    "        \n",
    "        ax.plot(x, mu, label=alg, linewidth=4, linestyle='--', color='C' + str(i))  # Plot mean curve\n",
    "        ax.fill_between(x, mu + sigma, mu - sigma, alpha=0.2, color='C' + str(i))  # Fill between std deviation\n",
    "        ax.grid(True)  # Add grid\n",
    "    \n",
    "    ax.legend()  # Add legend for algorithms\n",
    "    plt.show()  # Show the plot\n",
    "\n",
    "# ax.set_ylim([0, 2000])\n"
   ]
  },
  {
   "cell_type": "code",
   "execution_count": null,
   "metadata": {
    "ExecuteTime": {
     "end_time": "2024-10-22T15:32:28.769264Z",
     "start_time": "2024-10-22T15:32:28.767806Z"
    }
   },
   "outputs": [],
   "source": []
  }
 ],
 "metadata": {
  "kernelspec": {
   "display_name": "base",
   "language": "python",
   "name": "python3"
  },
  "language_info": {
   "codemirror_mode": {
    "name": "ipython",
    "version": 3
   },
   "file_extension": ".py",
   "mimetype": "text/x-python",
   "name": "python",
   "nbconvert_exporter": "python",
   "pygments_lexer": "ipython3",
   "version": "3.10.13"
  }
 },
 "nbformat": 4,
 "nbformat_minor": 4
}
