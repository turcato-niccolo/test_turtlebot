{
 "cells": [
  {
   "cell_type": "code",
   "execution_count": 1,
   "id": "initial_id",
   "metadata": {
    "ExecuteTime": {
     "end_time": "2025-04-29T07:44:09.356249Z",
     "start_time": "2025-04-29T07:44:08.947549Z"
    },
    "collapsed": true
   },
   "outputs": [],
   "source": [
    "import numpy as np\n",
    "import matplotlib.pyplot as plt\n",
    "from matplotlib.path import Path\n",
    "from matplotlib.patches import PathPatch\n",
    "import matplotlib\n",
    "matplotlib.rcParams['text.usetex'] = True\n"
   ]
  },
  {
   "cell_type": "code",
   "execution_count": 2,
   "id": "56bcd38a",
   "metadata": {},
   "outputs": [],
   "source": [
    "def rounded_rect_profile(width, height, radius, resolution=100):\n",
    "    \"\"\"\n",
    "    Generate coordinates for a rounded rectangle with circular corner arcs\n",
    "    \n",
    "    Parameters:\n",
    "    width (float): Width of the rectangle\n",
    "    height (float): Height of the rectangle\n",
    "    radius (float): Radius of the corner arcs\n",
    "    resolution (int): Number of points for each corner arc\n",
    "    \n",
    "    Returns:\n",
    "    tuple: (x, y) coordinates of the rounded rectangle profile\n",
    "    \"\"\"\n",
    "    # Make sure radius isn't larger than half the width or height\n",
    "    radius = min(radius, width/2, height/2)\n",
    "    \n",
    "    # Quarter circles: angles in radians for arcs\n",
    "    theta = np.linspace(0, np.pi/2, resolution)\n",
    "    \n",
    "    # Bottom-left corner (from π to 3π/2)\n",
    "    bl_x = radius * np.cos(np.pi + theta) + (-width/2 + radius)\n",
    "    bl_y = radius * np.sin(np.pi + theta) + (-height/2 + radius)\n",
    "    \n",
    "    # Bottom-right corner (from 3π/2 to 2π)\n",
    "    br_x = radius * np.cos(3*np.pi/2 + theta) + (width/2 - radius)\n",
    "    br_y = radius * np.sin(3*np.pi/2 + theta) + (-height/2 + radius)\n",
    "    \n",
    "    # Top-right corner (from 0 to π/2)\n",
    "    tr_x = radius * np.cos(theta) + (width/2 - radius)\n",
    "    tr_y = radius * np.sin(theta) + (height/2 - radius)\n",
    "    \n",
    "    # Top-left corner (from π/2 to π)\n",
    "    tl_x = radius * np.cos(np.pi/2 + theta) + (-width/2 + radius)\n",
    "    tl_y = radius * np.sin(np.pi/2 + theta) + (height/2 - radius)\n",
    "    \n",
    "    # Concatenate all parts to form a closed loop\n",
    "    x = np.concatenate([br_x, tr_x, tl_x, bl_x, [br_x[0]]])  # Add first point at the end to close the loop\n",
    "    y = np.concatenate([br_y, tr_y, tl_y, bl_y, [br_y[0]]])\n",
    "    \n",
    "    return x, y\n",
    "\n",
    "\n",
    "def square_profile(width, height):\n",
    "    \"\"\"Generate coordinates for a simple square/rectangle\"\"\"\n",
    "    x = np.array([-width/2, width/2, width/2, -width/2, -width/2])\n",
    "    y = np.array([-height/2, -height/2, height/2, height/2, -height/2])\n",
    "    return x, y"
   ]
  },
  {
   "cell_type": "code",
   "execution_count": 3,
   "id": "df8bd181dd6c55fb",
   "metadata": {
    "ExecuteTime": {
     "end_time": "2025-04-29T11:37:54.388816Z",
     "start_time": "2025-04-29T11:37:54.066087Z"
    }
   },
   "outputs": [
    {
     "name": "stdout",
     "output_type": "stream",
     "text": [
      "0.2824147815994682 -0.24751279528711337\n"
     ]
    },
    {
     "data": {
      "image/png": "[encoded data removed]",
      "text/plain": [
       "<Figure size 300x300 with 1 Axes>"
      ]
     },
     "metadata": {},
     "output_type": "display_data"
    }
   ],
   "source": [
    "napvig = np.loadtxt('napvig/front35.csv', delimiter=',')[:2040, :][::20]\n",
    "ddpg1 = np.loadtxt('ddpg/ddpg_1.csv', delimiter=',')[:2000, :][::20]\n",
    "# ddpg2 = np.loadtxt('ddpg/ddpg_2.csv', delimiter=',')[::20]\n",
    "td3 = np.loadtxt('td3/td3_2.csv', delimiter=',')[:2050, :][::20]\n",
    "sac = np.loadtxt('sac/sac_3.csv', delimiter=',')[:2070, :][::20]\n",
    "\n",
    "offset_x = np.mean(napvig[:,0], axis=0) + 0.1\n",
    "offset_y = np.mean(napvig[:,1], axis=0)\n",
    "print(offset_x, offset_y)\n",
    "\n",
    "fig, ax = plt.subplots(figsize=(3, 3))\n",
    "ax.set_axisbelow(True)\n",
    "plt.grid()\n",
    "# plt.scatter(napvig[:,0]-offset_x, napvig[:,1]-offset_y, s=10)\n",
    "plt.plot(napvig[:,0]-offset_x, napvig[:,1]-offset_y, linewidth=2)\n",
    "plt.plot(ddpg1[:,0]-offset_x, ddpg1[:,1]-offset_y, linewidth=2)\n",
    "# plt.plot(ddpg2[:,0]-offset_x, ddpg2[:,1]-offset_y, linewidth=1)\n",
    "plt.plot(td3[:,0]-offset_x, td3[:,1]-offset_y, linewidth=2)\n",
    "plt.plot(sac[:,0]-offset_x, sac[:,1]-offset_y, linewidth=2)\n",
    "\n",
    "x = np.arange(-0.3, 0.31, 0.05)\n",
    "y = np.array([0.3] * len(x))\n",
    "plt.fill_between(x, -y, y, color='k', alpha=1)\n",
    "\n",
    "# Create the rounded rectangle profile\n",
    "x_rect, y_rect = rounded_rect_profile(1, 1, 0.2)\n",
    "plt.fill(x_rect, y_rect, color='k', alpha=0.4)\n",
    "\n",
    "\n",
    "# Parameters for the second box\n",
    "inner_width = 1.6\n",
    "inner_height = 1.6\n",
    "border_thickness = 0.0 # Thickness of the border\n",
    "\n",
    "# Generate inner square profile\n",
    "inner_x, inner_y = square_profile(inner_width, inner_height)\n",
    "\n",
    "# Generate outer square profile\n",
    "outer_width = inner_width + 0.4\n",
    "outer_height = inner_height + 0.4\n",
    "outer_x, outer_y = square_profile(outer_width, outer_height)\n",
    "\n",
    "# Create a compound path for the frame (outer square minus inner square)\n",
    "# The inner path needs to be reversed to make a proper hole\n",
    "vertices = np.vstack([\n",
    "    np.column_stack([outer_x, outer_y]),\n",
    "    np.column_stack([inner_x[::-1], inner_y[::-1]])\n",
    "])\n",
    "\n",
    "# Create codes array\n",
    "n_outer = len(outer_x)\n",
    "n_inner = len(inner_x)\n",
    "codes = np.full(n_outer + n_inner, Path.LINETO)\n",
    "codes[0] = Path.MOVETO  # Start of outer path\n",
    "codes[n_outer] = Path.MOVETO  # Start of inner path (hole)\n",
    "\n",
    "# Create path and patch\n",
    "path = Path(vertices, codes)\n",
    "patch = PathPatch(path, facecolor='k', alpha=0.4)\n",
    "\n",
    "# Add patch to axis\n",
    "ax.add_patch(patch)\n",
    "\n",
    "plt.ylim([-1., 1.])\n",
    "plt.xlim([-1., 1.])\n",
    "plt.yticks([-1, -0.5, 0, 0.5, 1])\n",
    "plt.xticks([-1, -0.5, 0, 0.5, 1])\n",
    "\n",
    "plt.tight_layout()\n",
    "\n",
    "labels = ['NAPVIG', 'DDPG', 'TD3', 'SAC']\n",
    "leg = fig.legend(labels, loc='upper center', bbox_to_anchor=(.59, 0.06), \n",
    "                fancybox=True, shadow=True, ncol=2, prop={'size': 8})\n",
    "\n",
    "# set the linewidth of each legend object\n",
    "for legobj in leg.legend_handles:\n",
    "    legobj.set_linewidth(4.0)\n",
    "\n",
    "plt.savefig('arena_trajectories.pdf', bbox_inches=\"tight\")"
   ]
  },
  {
   "cell_type": "code",
   "execution_count": null,
   "id": "4b3f5492",
   "metadata": {},
   "outputs": [],
   "source": []
  }
 ],
 "metadata": {
  "kernelspec": {
   "display_name": "base",
   "language": "python",
   "name": "python3"
  },
  "language_info": {
   "codemirror_mode": {
    "name": "ipython",
    "version": 3
   },
   "file_extension": ".py",
   "mimetype": "text/x-python",
   "name": "python",
   "nbconvert_exporter": "python",
   "pygments_lexer": "ipython3",
   "version": "3.12.7"
  }
 },
 "nbformat": 4,
 "nbformat_minor": 5
}
