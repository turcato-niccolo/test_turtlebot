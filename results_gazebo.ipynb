{
 "cells": [
  {
   "cell_type": "code",
   "execution_count": 9,
   "metadata": {},
   "outputs": [],
   "source": [
    "import numpy as np\n",
    "import matplotlib.pyplot as plt"
   ]
  },
  {
   "cell_type": "code",
   "execution_count": 10,
   "metadata": {},
   "outputs": [],
   "source": [
    "def plot_evaluation_results(file_paths, smooth_length=10):\n",
    "    \"\"\"\n",
    "    Plots the evaluation reward and success rate from multiple NPZ files.\n",
    "    \n",
    "    - Computes mean and standard deviation for rewards.\n",
    "    - Computes mean and percentiles (25th & 75th) for success.\n",
    "    - Converts time from seconds to hours.\n",
    "    - Smooths the curves using a moving average.\n",
    "    - Displays both plots side by side.\n",
    "    \n",
    "    Parameters:\n",
    "        file_paths (list): List of NPZ file paths.\n",
    "        smooth_length (int): Window size for smoothing the data.\n",
    "    \"\"\"\n",
    "\n",
    "    # Load data\n",
    "    time_lists, reward_lists, success_lists = [], [], []\n",
    "\n",
    "    for file_path in file_paths:\n",
    "        data = np.load(file_path)\n",
    "        time_lists.append(data[\"Total_Time_List\"])\n",
    "        reward_lists.append(data[\"Evaluation_Reward_List\"])\n",
    "        success_lists.append(data[\"Evaluation_Success_List\"])\n",
    "\n",
    "    # Use the first file's time list as the reference x-axis\n",
    "    time_reference = time_lists[0]\n",
    "\n",
    "    # Find the minimum length to align all datasets\n",
    "    min_length = min(len(t) for t in time_lists)\n",
    "\n",
    "    # Trim all lists to match the minimum length\n",
    "    time_trimmed = time_reference[:min_length] / 3600  # Convert seconds to hours\n",
    "    reward_trimmed = np.array([r[:min_length] for r in reward_lists])\n",
    "    success_trimmed = np.array([s[:min_length] for s in success_lists])\n",
    "\n",
    "    # Compute mean and variance for rewards\n",
    "    reward_mean = np.mean(reward_trimmed, axis=0)\n",
    "    reward_std = np.std(reward_trimmed, axis=0)\n",
    "\n",
    "    # Compute mean and percentiles for success rate\n",
    "    success_mean = np.mean(success_trimmed, axis=0)\n",
    "    success_25 = np.percentile(success_trimmed, 25, axis=0)\n",
    "    success_75 = np.percentile(success_trimmed, 75, axis=0)\n",
    "\n",
    "    # Smoothing function\n",
    "    def smooth(data, length):\n",
    "        data = data.copy()\n",
    "        pad = np.repeat(data[0], length-1)  # Padding with the first value\n",
    "        pad_data = np.concatenate((pad, data))\n",
    "        smoothed = np.array([np.mean(pad_data[i:i+length]) for i in range(len(data))])\n",
    "        return smoothed\n",
    "\n",
    "    # Apply smoothing\n",
    "    reward_mean_smooth = smooth(reward_mean, smooth_length)\n",
    "    reward_std_smooth = smooth(reward_std, smooth_length)\n",
    "\n",
    "    success_mean_smooth = smooth(success_mean, smooth_length)\n",
    "    success_25_smooth = smooth(success_25, smooth_length)\n",
    "    success_75_smooth = smooth(success_75, smooth_length)\n",
    "\n",
    "    # Plot both figures in one figure (side by side)\n",
    "    fig, axes = plt.subplots(1, 2, figsize=(14, 5))\n",
    "\n",
    "    # Plot Evaluation Reward over Time\n",
    "    axes[0].plot(time_trimmed, reward_mean_smooth, label=\"Mean Reward\", linewidth=3, linestyle=\"--\", color=\"blue\")\n",
    "    axes[0].fill_between(time_trimmed, reward_mean_smooth + reward_std_smooth, reward_mean_smooth - reward_std_smooth, alpha=0.2, color=\"blue\")\n",
    "    axes[0].set_xlabel(\"Time (hours)\")\n",
    "    axes[0].set_ylabel(\"Reward\")\n",
    "    axes[0].set_title(\"Smoothed Evaluation Reward\")\n",
    "    axes[0].legend()\n",
    "    axes[0].grid(True)\n",
    "\n",
    "    # Plot Evaluation Success over Time with Percentiles\n",
    "    axes[1].plot(time_trimmed, success_mean_smooth, label=\"Mean Success\", linewidth=3, linestyle=\"--\", color=\"green\")\n",
    "    axes[1].fill_between(time_trimmed, success_25_smooth, success_75_smooth, alpha=0.2, color=\"green\")\n",
    "    axes[1].set_xlabel(\"Time (hours)\")\n",
    "    axes[1].set_ylabel(\"Success Rate\")\n",
    "    axes[1].set_title(\"Smoothed Evaluation Success (25th-75th Percentile)\")\n",
    "    axes[1].legend()\n",
    "    axes[1].grid(True)\n",
    "\n",
    "    plt.tight_layout()\n",
    "    plt.show()\n"
   ]
  },
  {
   "cell_type": "code",
   "execution_count": 11,
   "metadata": {},
   "outputs": [
    {
     "ename": "FileNotFoundError",
     "evalue": "[Errno 2] No such file or directory: './results/eval_ExpD3_64_128_0.npz'",
     "output_type": "error",
     "traceback": [
      "\u001b[0;31m---------------------------------------------------------------------------\u001b[0m",
      "\u001b[0;31mFileNotFoundError\u001b[0m                         Traceback (most recent call last)",
      "Cell \u001b[0;32mIn[11], line 7\u001b[0m\n\u001b[1;32m      1\u001b[0m \u001b[38;5;66;03m# Example usage\u001b[39;00m\n\u001b[1;32m      2\u001b[0m file_paths \u001b[38;5;241m=\u001b[39m [\n\u001b[1;32m      3\u001b[0m     \u001b[38;5;124m\"\u001b[39m\u001b[38;5;124m./results/eval_ExpD3_64_128_0.npz\u001b[39m\u001b[38;5;124m\"\u001b[39m,\n\u001b[1;32m      4\u001b[0m     \u001b[38;5;124m\"\u001b[39m\u001b[38;5;124m./results/eval_ExpD3_64_128_1.npz\u001b[39m\u001b[38;5;124m\"\u001b[39m,\n\u001b[1;32m      5\u001b[0m     \u001b[38;5;124m\"\u001b[39m\u001b[38;5;124m./results/eval_ExpD3_64_128_3.npz\u001b[39m\u001b[38;5;124m\"\u001b[39m,\n\u001b[1;32m      6\u001b[0m ]\n\u001b[0;32m----> 7\u001b[0m \u001b[43mplot_evaluation_results\u001b[49m\u001b[43m(\u001b[49m\u001b[43mfile_paths\u001b[49m\u001b[43m,\u001b[49m\u001b[43m \u001b[49m\u001b[43msmooth_length\u001b[49m\u001b[38;5;241;43m=\u001b[39;49m\u001b[38;5;241;43m10\u001b[39;49m\u001b[43m)\u001b[49m\n",
      "Cell \u001b[0;32mIn[10], line 20\u001b[0m, in \u001b[0;36mplot_evaluation_results\u001b[0;34m(file_paths, smooth_length)\u001b[0m\n\u001b[1;32m     17\u001b[0m time_lists, reward_lists, success_lists \u001b[38;5;241m=\u001b[39m [], [], []\n\u001b[1;32m     19\u001b[0m \u001b[38;5;28;01mfor\u001b[39;00m file_path \u001b[38;5;129;01min\u001b[39;00m file_paths:\n\u001b[0;32m---> 20\u001b[0m     data \u001b[38;5;241m=\u001b[39m \u001b[43mnp\u001b[49m\u001b[38;5;241;43m.\u001b[39;49m\u001b[43mload\u001b[49m\u001b[43m(\u001b[49m\u001b[43mfile_path\u001b[49m\u001b[43m)\u001b[49m\n\u001b[1;32m     21\u001b[0m     time_lists\u001b[38;5;241m.\u001b[39mappend(data[\u001b[38;5;124m\"\u001b[39m\u001b[38;5;124mTotal_Time_List\u001b[39m\u001b[38;5;124m\"\u001b[39m])\n\u001b[1;32m     22\u001b[0m     reward_lists\u001b[38;5;241m.\u001b[39mappend(data[\u001b[38;5;124m\"\u001b[39m\u001b[38;5;124mEvaluation_Reward_List\u001b[39m\u001b[38;5;124m\"\u001b[39m])\n",
      "File \u001b[0;32m/opt/miniconda3/envs/pytorch/lib/python3.9/site-packages/numpy/lib/npyio.py:427\u001b[0m, in \u001b[0;36mload\u001b[0;34m(file, mmap_mode, allow_pickle, fix_imports, encoding, max_header_size)\u001b[0m\n\u001b[1;32m    425\u001b[0m     own_fid \u001b[38;5;241m=\u001b[39m \u001b[38;5;28;01mFalse\u001b[39;00m\n\u001b[1;32m    426\u001b[0m \u001b[38;5;28;01melse\u001b[39;00m:\n\u001b[0;32m--> 427\u001b[0m     fid \u001b[38;5;241m=\u001b[39m stack\u001b[38;5;241m.\u001b[39menter_context(\u001b[38;5;28;43mopen\u001b[39;49m\u001b[43m(\u001b[49m\u001b[43mos_fspath\u001b[49m\u001b[43m(\u001b[49m\u001b[43mfile\u001b[49m\u001b[43m)\u001b[49m\u001b[43m,\u001b[49m\u001b[43m \u001b[49m\u001b[38;5;124;43m\"\u001b[39;49m\u001b[38;5;124;43mrb\u001b[39;49m\u001b[38;5;124;43m\"\u001b[39;49m\u001b[43m)\u001b[49m)\n\u001b[1;32m    428\u001b[0m     own_fid \u001b[38;5;241m=\u001b[39m \u001b[38;5;28;01mTrue\u001b[39;00m\n\u001b[1;32m    430\u001b[0m \u001b[38;5;66;03m# Code to distinguish from NumPy binary files and pickles.\u001b[39;00m\n",
      "\u001b[0;31mFileNotFoundError\u001b[0m: [Errno 2] No such file or directory: './results/eval_ExpD3_64_128_0.npz'"
     ]
    }
   ],
   "source": [
    "# Example usage\n",
    "file_paths = [\n",
    "    \"./results/eval_ExpD3_64_128_0.npz\",\n",
    "    \"./results/eval_ExpD3_64_128_1.npz\",\n",
    "    \"./results/eval_ExpD3_64_128_3.npz\",\n",
    "]\n",
    "plot_evaluation_results(file_paths, smooth_length=10)"
   ]
  },
  {
   "cell_type": "code",
   "execution_count": null,
   "metadata": {},
   "outputs": [],
   "source": []
  }
 ],
 "metadata": {
  "kernelspec": {
   "display_name": "pytorch",
   "language": "python",
   "name": "python3"
  },
  "language_info": {
   "codemirror_mode": {
    "name": "ipython",
    "version": 3
   },
   "file_extension": ".py",
   "mimetype": "text/x-python",
   "name": "python",
   "nbconvert_exporter": "python",
   "pygments_lexer": "ipython3",
   "version": "3.9.20"
  }
 },
 "nbformat": 4,
 "nbformat_minor": 4
}
